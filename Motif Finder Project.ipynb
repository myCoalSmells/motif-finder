{
 "cells": [
  {
   "cell_type": "markdown",
   "metadata": {},
   "source": [
    "# Motif Finder Algorithm\n",
    "In this Jupyter Notebook, you will be writing functions to search for an inputted motif within protein sequences. We will be giving Python some protein sequences in a FASTA file, asking the user for an amino acid sequence (single-letter), then using regular expressions to search for the amino acid pattern within the FASTA sequences.  \n",
    "This will require some knowledge of regular expressions and how to write your own functions.  \n",
    "\n",
    "We will be walking through this project in multiple parts:\n",
    "* __Part 0: Libraries__ will introduce you to some very useful packages containing some very useful functions. Many of them will be familiar. \n",
    "* __Part 1: `FindMotif`__ will require you to fill in and complete a function. This function will use regular expressions to search for a short motif pattern within a larger sequence of characters (in this case, an one-letter amino acid sequence). \n",
    "* __Part 2: `FastatoCSV`__ will require you to fill in and complete a function. This function will do three things at once: open the data file containing our FASTA sequence, use the `FindMotif` function that you completed in Part 1, then write the results to a CSV file. \n",
    "* __Part 3: Putting It All Together__ will show you some ways to make the code and functions user-friendly. \n",
    "\n",
    "*The following code is courtesy of Dr. Hall's lab. I've made some modifications to adapt it to Python 3. I've also made some changes that will require you to do some coding yourself.*"
   ]
  },
  {
   "cell_type": "markdown",
   "metadata": {},
   "source": [
    "![](https://media.giphy.com/media/UDjF1zMreMld6/giphy.gif)"
   ]
  },
  {
   "cell_type": "markdown",
   "metadata": {},
   "source": [
    "# A reminder\n",
    "As you start working through this notebook, I'll remind you of SSP's policies on collaborating on code together:\n",
    "* You may ask your fellow participants for help. You may show them your computer screen and any error messages that arise. __However:__ the person helping you cannot assume control of your keyboard and type anything. \n",
    "* Likewise, __you are not allowed to copy-and-paste and/or send code to anyone else. You are also not allowed to copy-and-paste any code you find online, unless you give it proper citation and acknowledgement.__\n",
    "* You may not show your working code as an \"example\" to anyone else."
   ]
  },
  {
   "cell_type": "markdown",
   "metadata": {},
   "source": [
    "# Part 0: Libraries\n",
    "First, we'll need to import some libraries and packages in order to use some nice functions. We'll use the following libraries:\n",
    "* `re`: Regular expression operations; sequence of characters that define a search pattern\n",
    "* `csv`: Comma Separated Values; allows for import and export for spreadsheets and databases\n",
    "* `Bio`: Biopython; a set of tools for biological computation. A very powerful package that you are sure to encounter in biological research\n",
    "* `SeqIO`: Sequence Input/Output; allows for input/output of assorted sequence file formats\n"
   ]
  },
  {
   "cell_type": "code",
   "execution_count": 1,
   "metadata": {},
   "outputs": [],
   "source": [
    "import re, csv\n",
    "from Bio import SeqIO"
   ]
  },
  {
   "cell_type": "markdown",
   "metadata": {},
   "source": [
    "# Part 1: `FindMotif`\n",
    "At the core of this project is a function that will search for a short motif within a longer protein sequence. This is where our old friend, regex, will come in handy.  \n",
    "\n",
    "Suppose we have the user give us a short amino acid sequence, called `motif`. (We'll worry about how to get this sequence later.)  \n",
    "We'll want to compile the entered motif into a more \"friendly\" format. Below we've entered code which will replace any \"`X`\" with a \"`\\w`\", which is a regular expression for any alpha-numeric character. It is your responsibility to __further clean the motif by:__\n",
    "* replacing any \"`x`\" (lowercase) with a \"\\w\"\n",
    "* replacing any \"`-`\" with empty quotes\n",
    "* replacing any newline (\"`\\n`\") with empty quotes"
   ]
  },
  {
   "cell_type": "code",
   "execution_count": 2,
   "metadata": {},
   "outputs": [
    {
     "name": "stdout",
     "output_type": "stream",
     "text": [
      "SP\\w\\w\n"
     ]
    }
   ],
   "source": [
    "motif = \"S-P-x-X\"\n",
    "motif = re.sub(\"X\", \"\\\\\\w\", motif)\n",
    "motif = re.sub(\"x\", \"\\\\\\w\", motif)\n",
    "motif = re.sub(\"-\", \"\", motif)\n",
    "motif = re.sub(\"\\n\", \"\", motif)\n",
    "motif_clean = motif\n",
    "# Your Code After This Line\n",
    "\n",
    "print(motif)"
   ]
  },
  {
   "cell_type": "markdown",
   "metadata": {},
   "source": [
    "Next, we'll use the `compile` function to turn our cleaned motif into a variable called `needle`.  (As in, this is the `needle` in the haystack we will be searching for.)  \n",
    "\n",
    "We should also assume that the user has given us a FASTA file that contains our protein sequence, called `seq`. We'll worry about getting this later. For now, we'll use a short \"test\" protein sequence.  \n",
    "We'll also use the `findall` function to look for the `needle` within the `seq` (our haystack).\n",
    "\n",
    "You don't need to fill anything in in the following code, or run it."
   ]
  },
  {
   "cell_type": "code",
   "execution_count": 3,
   "metadata": {},
   "outputs": [
    {
     "ename": "NameError",
     "evalue": "name 'seq' is not defined",
     "output_type": "error",
     "traceback": [
      "\u001b[1;31m---------------------------------------------------------------------------\u001b[0m",
      "\u001b[1;31mNameError\u001b[0m                                 Traceback (most recent call last)",
      "\u001b[1;32m<ipython-input-3-4c7e5df4581d>\u001b[0m in \u001b[0;36m<module>\u001b[1;34m\u001b[0m\n\u001b[0;32m      3\u001b[0m \u001b[1;31m# Scans from left-to-right and returns matches\u001b[0m\u001b[1;33m\u001b[0m\u001b[1;33m\u001b[0m\u001b[1;33m\u001b[0m\u001b[0m\n\u001b[0;32m      4\u001b[0m \u001b[1;31m# IF it finds the motif (needle) in the protein sequence (seq) then perform the following...\u001b[0m\u001b[1;33m\u001b[0m\u001b[1;33m\u001b[0m\u001b[1;33m\u001b[0m\u001b[0m\n\u001b[1;32m----> 5\u001b[1;33m \u001b[1;32mif\u001b[0m \u001b[0mneedle\u001b[0m\u001b[1;33m.\u001b[0m\u001b[0mfindall\u001b[0m\u001b[1;33m(\u001b[0m\u001b[0mseq\u001b[0m\u001b[1;33m)\u001b[0m\u001b[1;33m:\u001b[0m\u001b[1;33m\u001b[0m\u001b[1;33m\u001b[0m\u001b[0m\n\u001b[0m\u001b[0;32m      6\u001b[0m \u001b[1;33m\u001b[0m\u001b[0m\n\u001b[0;32m      7\u001b[0m     \u001b[1;31m# Creates an empty matrix to store the matches in\u001b[0m\u001b[1;33m\u001b[0m\u001b[1;33m\u001b[0m\u001b[1;33m\u001b[0m\u001b[0m\n",
      "\u001b[1;31mNameError\u001b[0m: name 'seq' is not defined"
     ]
    }
   ],
   "source": [
    "needle = re.compile(str(motif_clean))\n",
    "\n",
    "# Scans from left-to-right and returns matches\n",
    "# IF it finds the motif (needle) in the protein sequence (seq) then perform the following...\n",
    "if needle.findall(seq):\n",
    "\n",
    "    # Creates an empty matrix to store the matches in\n",
    "    group_matches=[]\n",
    "    position_matches=[]\n",
    "\n",
    "    # For EACH 'match' in the protein sequence (seq), find the motif instances over the protein sequences\n",
    "    for match in needle.finditer(seq):\n",
    "\n",
    "        # Appends the matching group (motif) and matching span (position in protein sequence)\n",
    "        # to the empty matrix (position_matches) created earlier\n",
    "        group_matches.append(match.group(0))\n",
    "\n",
    "        position_matches.append(match.start(0)+1)\n",
    "        print(\"Position matches found.\")"
   ]
  },
  {
   "cell_type": "markdown",
   "metadata": {},
   "source": [
    "Notice that we supposed that the `needle` was indeed found in the `seq`. If it wasn't found, then we would want to return something like `NA` to signify that nothing was found. "
   ]
  },
  {
   "cell_type": "markdown",
   "metadata": {},
   "source": [
    "### Finish the Function\n",
    "Below, you'll find some beginnings of a function. I've entered in comments signifying where to enter code, and what it should look like. Your responsibility is to __use the code from above__ to fill out this function.  Be sure to keep __indentation__ in mind."
   ]
  },
  {
   "cell_type": "code",
   "execution_count": 4,
   "metadata": {},
   "outputs": [
    {
     "data": {
      "text/plain": [
       "(['aa', 'aa'], [9, 23], 2)"
      ]
     },
     "execution_count": 4,
     "metadata": {},
     "output_type": "execute_result"
    }
   ],
   "source": [
    "# FindMotif; Function that finds the inputted motif within the protein sequences in the FASTA file\n",
    "def FindMotif(motif,seq):\n",
    "\n",
    "    # Clean the motif using regex.\n",
    "    motif_clean = re.sub(\"X\", \"\\\\\\w\", motif)\n",
    "    motif_clean = re.sub(\"x\", \"\\\\\\w\", motif_clean)\n",
    "    motif_clean = re.sub(\"-\", \"\", motif_clean)\n",
    "    motif_clean = re.sub(\"\\n\", \"\", motif_clean) \n",
    "    needle = re.compile(str(motif_clean))   \n",
    "    if needle.findall(seq):\n",
    "        group_matches=[]\n",
    "        position_matches=[] \n",
    "        for match in needle.finditer(seq):\n",
    "            group_matches.append(match.group(0))\n",
    "            position_matches.append(match.start(0)+1) \n",
    "        return (group_matches, position_matches, len(group_matches))\n",
    "    else:\n",
    "        return ([\"NA\"],[\"NA\"],0) \n",
    "\n",
    "FindMotif(\"aa\", \"awiodhoiaawahfoiawhjdfaaawdawdawd\")"
   ]
  },
  {
   "cell_type": "markdown",
   "metadata": {},
   "source": [
    "# Part 2: `FastatoCSV` \n",
    "Before we can start using protein sequences from FASTA files, we need to do some special preparation to the FASTA file in order to read it correctly. Here, we'll choose to open it as a CSV file.  \n",
    "We've uploaded a file for you called `test_file.fasta`. It's a FASTA sequence of *Candida glabrata* proteins that Cdc14 might act on. Remember that the following code will open it as a CSV file:"
   ]
  },
  {
   "cell_type": "code",
   "execution_count": 5,
   "metadata": {},
   "outputs": [],
   "source": [
    "fasta_file = \"test_file.fasta\"\n",
    "\n",
    "# Opens the FASTA file using the built-in python function 'open'\n",
    "handle = open(fasta_file, \"r\")"
   ]
  },
  {
   "cell_type": "markdown",
   "metadata": {},
   "source": [
    "We'll also need a new, blank CSV file to save our results in. The following code will open a new CSV file called `motif search results.csv`, and write in a \"header\" of information. This \"header\" will tell us the information that is held in each column of the spreadsheet."
   ]
  },
  {
   "cell_type": "code",
   "execution_count": 6,
   "metadata": {},
   "outputs": [],
   "source": [
    "# Remember what \"with open( ) as\" does?\n",
    "with open (\"motif search results.csv\", \"w\") as csvfile:\n",
    "\n",
    "    # Assigns headers to the CSV output\n",
    "    # Creates a generic file writer (csv.writer) that writes to csvfile\n",
    "    writer = csv.writer(csvfile)\n",
    "\n",
    "    # Header values for our CSV output\n",
    "    header = ['Protein ID', 'Motifs', 'Positions', 'Number of Matches']\n",
    "\n",
    "    # Write the header values into the empty CSV file output\n",
    "    writer.writerow(header)"
   ]
  },
  {
   "cell_type": "markdown",
   "metadata": {},
   "source": [
    "Once we open this CSV file, we can use our `FindMotif` function to search for motifs within the sequence, and write in the results one row at a time.  \n",
    "Remember that we saved our FASTA sequence into a variable called `handle`. This variable name `handle` will stand in for our FASTA sequence each time we want to refer to it."
   ]
  },
  {
   "cell_type": "code",
   "execution_count": 7,
   "metadata": {},
   "outputs": [
    {
     "ename": "NameError",
     "evalue": "name 'motif_input' is not defined",
     "output_type": "error",
     "traceback": [
      "\u001b[1;31m---------------------------------------------------------------------------\u001b[0m",
      "\u001b[1;31mNameError\u001b[0m                                 Traceback (most recent call last)",
      "\u001b[1;32m<ipython-input-7-967e4cfb1e88>\u001b[0m in \u001b[0;36m<module>\u001b[1;34m\u001b[0m\n\u001b[0;32m     10\u001b[0m     \u001b[1;31m# Stores the output of FindMotif using the inputs 'motif_input' and...\u001b[0m\u001b[1;33m\u001b[0m\u001b[1;33m\u001b[0m\u001b[1;33m\u001b[0m\u001b[0m\n\u001b[0;32m     11\u001b[0m     \u001b[1;31m# record.seq (from line 49) all of the protein sequences as strings (str)\u001b[0m\u001b[1;33m\u001b[0m\u001b[1;33m\u001b[0m\u001b[1;33m\u001b[0m\u001b[0m\n\u001b[1;32m---> 12\u001b[1;33m     \u001b[0mmotif_row\u001b[0m \u001b[1;33m=\u001b[0m \u001b[0mFindMotif\u001b[0m\u001b[1;33m(\u001b[0m\u001b[0mmotif_input\u001b[0m\u001b[1;33m,\u001b[0m \u001b[0mstr\u001b[0m\u001b[1;33m(\u001b[0m\u001b[0mrecord\u001b[0m\u001b[1;33m.\u001b[0m\u001b[0mseq\u001b[0m\u001b[1;33m)\u001b[0m\u001b[1;33m)\u001b[0m\u001b[1;33m\u001b[0m\u001b[1;33m\u001b[0m\u001b[0m\n\u001b[0m\u001b[0;32m     13\u001b[0m \u001b[1;33m\u001b[0m\u001b[0m\n\u001b[0;32m     14\u001b[0m     \u001b[1;31m# Using the CSV writer (spamwriter) it writes the Protein (record.id)...\u001b[0m\u001b[1;33m\u001b[0m\u001b[1;33m\u001b[0m\u001b[1;33m\u001b[0m\u001b[0m\n",
      "\u001b[1;31mNameError\u001b[0m: name 'motif_input' is not defined"
     ]
    }
   ],
   "source": [
    "# For each protein ('record') in the FASTA file (handle, format 'fasta')...\n",
    "# Parse (break into subcomponents) using the known FASTA format\n",
    "for record in SeqIO.parse(handle, \"fasta\"):\n",
    "\n",
    "    # This a function that writes data into the new CSV file\n",
    "    # We'll call it \"spamwriter\" (as in \"green eggs and spam\")\n",
    "    # Allows you to set the delimiter and the quote character to allow for special characters\n",
    "    spamwriter = csv.writer(csvfile, delimiter=',', quotechar='\"')\n",
    "\n",
    "    # Stores the output of FindMotif using the inputs 'motif_input' and...\n",
    "    # record.seq (from line 49) all of the protein sequences as strings (str)\n",
    "    motif_row = FindMotif(motif_input, str(record.seq))\n",
    "\n",
    "    # Using the CSV writer (spamwriter) it writes the Protein (record.id)...\n",
    "    # the Sequence (record.seq), and the output of FindMotif\n",
    "    # [0] the matching sequence motif, and [1] the number of matches\n",
    "\n",
    "    for i in range(0,motif_row[2]):\n",
    "\n",
    "        spamwriter.writerow([record.id, motif_row[0][i], motif_row[1][i], motif_row[2]])"
   ]
  },
  {
   "cell_type": "markdown",
   "metadata": {},
   "source": [
    "We should always remember to close the CSV file that we opened:"
   ]
  },
  {
   "cell_type": "code",
   "execution_count": 8,
   "metadata": {},
   "outputs": [],
   "source": [
    "# Closes the active CSV file\n",
    "csvfile.close()"
   ]
  },
  {
   "cell_type": "markdown",
   "metadata": {},
   "source": [
    "### Finish the Function\n",
    "Below, you'll find some beginnings of a function. I've entered in comments signifying where to enter code, and what it should look like. Your responsibility is to __use the code from above__ to fill out this function.  Be sure to keep __indentation__ in mind."
   ]
  },
  {
   "cell_type": "code",
   "execution_count": 9,
   "metadata": {},
   "outputs": [],
   "source": [
    "# Preparing the FASTA file as a CSV file\n",
    "def FastatoCSV (fasta_file):\n",
    "    # Open the FASTA file\n",
    "    # Opens the FASTA file using the built-in python function 'open'\n",
    "    # [ADD CODE HERE]\n",
    "    handle = open(fasta_file, \"r\")\n",
    "\n",
    "    # Open a new, blank CSV file called 'motif search results.csv' and write in its header\n",
    "    # [ADD CODE HERE]\n",
    "    with open (\"motif search results.csv\", \"w\") as csvfile:\n",
    "        writer = csv.writer(csvfile)\n",
    "        header = ['Protein ID', 'Motifs', 'Positions', 'Number of Matches']\n",
    "        writer.writerow(header)\n",
    "    \n",
    "        # Since we have an input file with multiple sequences, use a for loop to\n",
    "        # use the FindMotif function to search for motifs in a handle,\n",
    "        # then our open CSV file to write in the results\n",
    "        # [ADD CODE HERE]\n",
    "        for record in SeqIO.parse(handle, \"fasta\"):\n",
    "            spamwriter = csv.writer(csvfile, delimiter=',', quotechar='\"')\n",
    "            motif_row = FindMotif(motif_input, str(record.seq))\n",
    "            for i in range(0,motif_row[2]):\n",
    "                spamwriter.writerow([record.id, motif_row[0][i], motif_row[1][i], motif_row[2]])\n",
    "    # Remember to close the active CSV file!\n",
    "    # [ADD CODE HERE]\n",
    "        csvfile.close()\n",
    "    \n",
    "    # Add a print statement so we can know when the function is done\n",
    "    print(\"Done!\")"
   ]
  },
  {
   "cell_type": "markdown",
   "metadata": {},
   "source": [
    "Note: Just because Python willfully says \"Done!\", doesn't necessarily mean that Python did what you wanted it to do. It may be misunderstanding what you are trying to tell it altogether. Be cautious with indentations, the order of your code, and any code you are omitting or including. "
   ]
  },
  {
   "cell_type": "markdown",
   "metadata": {},
   "source": [
    "# Part 3: Putting It All Together  \n",
    "We're very close to being able to use our functions! The last step is to make it user-friendly."
   ]
  },
  {
   "cell_type": "markdown",
   "metadata": {},
   "source": [
    "Remember how I said that would worry about getting a motif input and sequence later? We'll do that now.  \n",
    "\n",
    "Python has a useful function called `input` that will ask the user for an input. We can use that function to get the amino acid sequence that we want to search for. __Through the power of regular expressions, we can also add in any \"wild card\" characters by using an `X`, or allow a choice of a few amino acids for any single position.__  \n",
    "\n",
    "It would be nice for the user to understand what kind of input the functions will take. So we'll also also print out some nice instructions and tips for the user."
   ]
  },
  {
   "cell_type": "code",
   "execution_count": 10,
   "metadata": {},
   "outputs": [
    {
     "name": "stdout",
     "output_type": "stream",
     "text": [
      "This script needs a motif input in a regex format.\n",
      "The amino acids must be in single letter format.\n",
      "Example: S-P-x-[KR], where [KR] means either K or R. For any character, use *\n",
      "Input the motif:SPxK\n"
     ]
    }
   ],
   "source": [
    "# General instructions for the user on the required input format\n",
    "print(\"This script needs a motif input in a regex format.\")\n",
    "print(\"The amino acids must be in single letter format.\")\n",
    "print(\"Example: S-P-x-[KR], where [KR] means either K or R. For any character, use *\")\n",
    "\n",
    "# Sequence input; assigns \"motif_input\" to a value;\n",
    "# The input function requests information from the user.\n",
    "motif_input = input(\"Input the motif:\")"
   ]
  },
  {
   "cell_type": "markdown",
   "metadata": {},
   "source": [
    "We can also use the `input` function to get the name of the file where the user has some FASTA sequences stored.  \n",
    "On Canvas, we've provided you a test file called `test_file.fasta`. The data in that file is based on the Cdc14 enzyme of *Candida albicans.* Tomorrow, we will walk you through how to compile this input file. For now, just make sure your algorithm works on this test file. "
   ]
  },
  {
   "cell_type": "code",
   "execution_count": 13,
   "metadata": {},
   "outputs": [
    {
     "name": "stdout",
     "output_type": "stream",
     "text": [
      "Input the FASTA file name:botrytis_cinerea.fasta\n"
     ]
    }
   ],
   "source": [
    "# Input the FASTA file with the sequences.\n",
    "# It must be in the same folder of your Python Script.\n",
    "fasta_input = input(\"Input the FASTA file name:\")"
   ]
  },
  {
   "cell_type": "markdown",
   "metadata": {},
   "source": [
    "### The Big Reveal!\n",
    "Run the following cell to use the functions you wrote and test it out!"
   ]
  },
  {
   "cell_type": "code",
   "execution_count": 14,
   "metadata": {
    "scrolled": true
   },
   "outputs": [
    {
     "name": "stdout",
     "output_type": "stream",
     "text": [
      "Done!\n"
     ]
    }
   ],
   "source": [
    "# Runs the FastatoCSV function using the inputted FASTA file (fasta_input)\n",
    "# It will search for the inputted motif (motif_input)\n",
    "FastatoCSV(fasta_input)"
   ]
  },
  {
   "cell_type": "markdown",
   "metadata": {},
   "source": [
    "If your code ran, you should see a file called `motif search results.csv` in your the same folder as your Python notebook. Be sure to open the file and check it to see that the output is what you expected."
   ]
  },
  {
   "cell_type": "markdown",
   "metadata": {},
   "source": [
    "# Part 4 (Optional): Bells and Whistles\n",
    "If you feel comfortable with the above code and want to add some extra functionality, here are some options to add to your motif search algorithm. Using the code that has already been constructed for you, modify it or add extra functions to:\n",
    "* Let a user type in \"basic\" or \"acid\" to represent any basic or acidic residue, for instance\n",
    "* Display the extra amino acids on either side (~2 or ~3 residues) of a detected motif\n",
    "* Create a heatmap or some other visual representation of your results, and display it in the Jupyter Notebook\n",
    "* Sort and rank the hits before writing your results to the CSV\n",
    "* Add more options for user input, such as opening a pop-up to navigate through directories and select the FASTA file\n"
   ]
  },
  {
   "cell_type": "markdown",
   "metadata": {},
   "source": [
    "# Great work, and good luck!\n",
    "![](https://media.giphy.com/media/12XDYvMJNcmLgQ/giphy.gif)"
   ]
  }
 ],
 "metadata": {
  "kernelspec": {
   "display_name": "Python 3",
   "language": "python",
   "name": "python3"
  },
  "language_info": {
   "codemirror_mode": {
    "name": "ipython",
    "version": 3
   },
   "file_extension": ".py",
   "mimetype": "text/x-python",
   "name": "python",
   "nbconvert_exporter": "python",
   "pygments_lexer": "ipython3",
   "version": "3.7.6"
  }
 },
 "nbformat": 4,
 "nbformat_minor": 2
}
